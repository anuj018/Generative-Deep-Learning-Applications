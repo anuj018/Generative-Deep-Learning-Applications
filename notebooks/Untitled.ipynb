{
 "cells": [
  {
   "cell_type": "code",
   "execution_count": 1,
   "id": "12872b7a",
   "metadata": {},
   "outputs": [],
   "source": [
    "import os\n",
    "import tensorflow as tf\n",
    "# Load compressed models from tensorflow_hub\n",
    "os.environ['TFHUB_MODEL_LOAD_FORMAT'] = 'COMPRESSED'\n"
   ]
  },
  {
   "cell_type": "code",
   "execution_count": 2,
   "id": "6d549362",
   "metadata": {},
   "outputs": [
    {
     "name": "stdout",
     "output_type": "stream",
     "text": [
      "Downloading data from https://storage.googleapis.com/tensorflow/keras-applications/vgg19/vgg19_weights_tf_dim_ordering_tf_kernels_notop.h5\n",
      "80134624/80134624 [==============================] - 15s 0us/step\n",
      "\n",
      "input_1\n",
      "block1_conv1\n",
      "block1_conv2\n",
      "block1_pool\n",
      "block2_conv1\n",
      "block2_conv2\n",
      "block2_pool\n",
      "block3_conv1\n",
      "block3_conv2\n",
      "block3_conv3\n",
      "block3_conv4\n",
      "block3_pool\n",
      "block4_conv1\n",
      "block4_conv2\n",
      "block4_conv3\n",
      "block4_conv4\n",
      "block4_pool\n",
      "block5_conv1\n",
      "block5_conv2\n",
      "block5_conv3\n",
      "block5_conv4\n",
      "block5_pool\n"
     ]
    }
   ],
   "source": [
    "vgg = tf.keras.applications.VGG19(include_top=False, weights='imagenet')\n",
    "\n",
    "print()\n",
    "for layer in vgg.layers:\n",
    "  print(layer.name)\n"
   ]
  },
  {
   "cell_type": "code",
   "execution_count": 12,
   "id": "48baf236",
   "metadata": {},
   "outputs": [],
   "source": [
    "def load_img(img_path):\n",
    "    \"\"\"\n",
    "    Load the image \n",
    "    decode the bytes in the image \n",
    "    cast the image to float 32 \n",
    "    rescale the image \n",
    "    add a new dimension (batch)\n",
    "    \"\"\"\n",
    "    max_dim = 512\n",
    "    image = tf.io.read_file(img_path)\n",
    "    img = tf.image.decode_image(image, channels=3)\n",
    "    img = tf.image.convert_image_dtype(img,tf.float32)\n",
    "    shape = tf.cast(tf.shape(img)[:-1], tf.float32)\n",
    "    long_dim = max(shape)\n",
    "    scale = max_dim / long_dim\n",
    "    new_shape = tf.cast(shape * scale, tf.int32)\n",
    "\n",
    "    img = tf.image.resize(img, new_shape)\n",
    "    img = img[tf.newaxis, :]\n",
    "    return img"
   ]
  },
  {
   "cell_type": "code",
   "execution_count": 13,
   "id": "e9eecefc",
   "metadata": {},
   "outputs": [],
   "source": [
    "content_path = tf.keras.utils.get_file('YellowLabradorLooking_new.jpg', 'https://storage.googleapis.com/download.tensorflow.org/example_images/YellowLabradorLooking_new.jpg')\n",
    "style_path = tf.keras.utils.get_file('kandinsky5.jpg','https://storage.googleapis.com/download.tensorflow.org/example_images/Vassily_Kandinsky%2C_1913_-_Composition_7.jpg')\n"
   ]
  },
  {
   "cell_type": "code",
   "execution_count": 14,
   "id": "b08dd487",
   "metadata": {},
   "outputs": [],
   "source": [
    "content_image = load_img(content_path)\n",
    "style_image = load_img(style_path)"
   ]
  },
  {
   "cell_type": "code",
   "execution_count": 6,
   "id": "e2f8512d",
   "metadata": {},
   "outputs": [],
   "source": [
    "content_layers = ['block5_conv2'] \n",
    "\n",
    "style_layers = ['block1_conv1',\n",
    "                'block2_conv1',\n",
    "                'block3_conv1', \n",
    "                'block4_conv1', \n",
    "                'block5_conv1']\n",
    "\n",
    "num_content_layers = len(content_layers)\n",
    "num_style_layers = len(style_layers)\n"
   ]
  },
  {
   "cell_type": "code",
   "execution_count": 7,
   "id": "df0b60ef",
   "metadata": {},
   "outputs": [],
   "source": [
    "def vgg_layers(layer_names):\n",
    "    vgg = tf.keras.applications.VGG19(include_top=False, weights='imagenet')\n",
    "    vgg.trainable = False\n",
    "\n",
    "    outputs = [vgg.get_layer(name).output for name in layer_names]\n",
    "\n",
    "    model = tf.keras.Model([vgg.input], outputs)\n",
    "    return model"
   ]
  },
  {
   "cell_type": "code",
   "execution_count": 15,
   "id": "ec4ae448",
   "metadata": {},
   "outputs": [],
   "source": [
    "style_extractor = vgg_layers(style_layers)\n",
    "style_outputs = style_extractor(style_image*255)\n"
   ]
  },
  {
   "cell_type": "code",
   "execution_count": 24,
   "id": "65a91011",
   "metadata": {},
   "outputs": [
    {
     "name": "stdout",
     "output_type": "stream",
     "text": [
      "block1_conv1\n",
      "  shape:  (1, 336, 512, 64)\n",
      "  min:  0.0\n",
      "  max:  835.5255\n",
      "  mean:  33.97525\n",
      "\n",
      "block2_conv1\n",
      "  shape:  (1, 168, 256, 128)\n",
      "  min:  0.0\n",
      "  max:  4625.8867\n",
      "  mean:  199.82687\n",
      "\n",
      "block3_conv1\n",
      "  shape:  (1, 84, 128, 256)\n",
      "  min:  0.0\n",
      "  max:  8789.24\n",
      "  mean:  230.78099\n",
      "\n",
      "block4_conv1\n",
      "  shape:  (1, 42, 64, 512)\n",
      "  min:  0.0\n",
      "  max:  21566.133\n",
      "  mean:  791.24005\n",
      "\n",
      "block5_conv1\n",
      "  shape:  (1, 21, 32, 512)\n",
      "  min:  0.0\n",
      "  max:  3189.2532\n",
      "  mean:  59.179478\n",
      "\n"
     ]
    }
   ],
   "source": [
    "#Look at the statistics of each layer's output\n",
    "for name, output in zip(style_layers, style_outputs):\n",
    "  print(name)\n",
    "  print(\"  shape: \", output.numpy().shape)\n",
    "  print(\"  min: \", output.numpy().min())\n",
    "  print(\"  max: \", output.numpy().max())\n",
    "  print(\"  mean: \", output.numpy().mean())\n",
    "  print()\n"
   ]
  },
  {
   "cell_type": "code",
   "execution_count": 25,
   "id": "1db0abad",
   "metadata": {},
   "outputs": [],
   "source": [
    "def gram_matrix(input_tensor):\n",
    "    result = tf.linalg.einsum('bijc,bijd -> bcd',input_tensor,input_tensor)\n",
    "    input_shape = tf.shape(input_tensor)\n",
    "    num_locations = tf.cast(input_shape[1]*input_shape[2], tf.float32)\n",
    "    return result/(num_locations)\n"
   ]
  },
  {
   "cell_type": "code",
   "execution_count": null,
   "id": "7af751e4",
   "metadata": {},
   "outputs": [],
   "source": [
    "class StyleContentModel(tf.keras.models.Model):\n",
    "    def __init__(self, style_layers,content_layers)\n",
    "        self.vgg = vgg_layers(style_layers + content_layers)\n",
    "        self.style_layers = vgg_layers(style_layers)\n",
    "        self.content_layers = vgg_layers(content_layers)\n",
    "        self.vegg.trainable = False\n",
    "        self.num_style_layers = len(style_layers)\n",
    "    \n",
    "    def call(self,inputs)\n",
    "    \"Expects float input in [0,1]\"\n",
    "    preprocessed_inputs = inputs*255\n",
    "    preprocessed_inputs = tf.keras.applications.vgg19.preprocess_input(preprocessed_inputs)\n",
    "    vgg_output = self.vgg(preprocessed_inputs)\n",
    "    style_outputs,content_outputs = (outputs[:self.num_style_layers],outputs[self.num_style_layers:])\n",
    "    \n",
    "    style_outputs = [gram_matrix(style_output)\n",
    "                     for style_output in style_outputs]\n",
    "    \n",
    "    content_dict = {content_name: value\n",
    "                    for content_name, value\n",
    "                    in zip(self.content_layers, content_outputs)}\n",
    "\n",
    "    style_dict = {style_name: value\n",
    "                  for style_name, value\n",
    "                  in zip(self.style_layers, style_outputs)}\n",
    "    \n",
    "    return {'content': content_dict, 'style': style_dict}\n",
    "\n"
   ]
  }
 ],
 "metadata": {
  "kernelspec": {
   "display_name": "Python 3 (ipykernel)",
   "language": "python",
   "name": "python3"
  },
  "language_info": {
   "codemirror_mode": {
    "name": "ipython",
    "version": 3
   },
   "file_extension": ".py",
   "mimetype": "text/x-python",
   "name": "python",
   "nbconvert_exporter": "python",
   "pygments_lexer": "ipython3",
   "version": "3.10.11"
  }
 },
 "nbformat": 4,
 "nbformat_minor": 5
}
